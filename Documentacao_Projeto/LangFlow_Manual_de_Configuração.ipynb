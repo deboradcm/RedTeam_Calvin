{
 "cells": [
  {
   "cell_type": "markdown",
   "metadata": {},
   "source": [
    "# Manual de Configuração e uso do LangFlow\n",
    "\n",
    "**Autor(a)** Debora da Costa Medeiros\n",
    "\n",
    "**Data**: 19/01/2025\n",
    "\n",
    "**Contato:** `[debora.medeiros@icomp.ufam.edu.br]`\n",
    "\n",
    "---"
   ]
  },
  {
   "cell_type": "markdown",
   "metadata": {},
   "source": [
    "### 1. Descrição Geral\n",
    "\n",
    "Este manual fornece um guia detalhado para a instalação, uso e exportação de fluxos no Langflow, ajudando os usuários a explorar suas funcionalidades. É possível utilizar o langflow por meio de  serviços de hospedagem na nuvem, porém para fins deste manual foi selecionado o seu uso local. A instalação local permite mais controle, privacidade e personalização, além de possibilitar a integração com outros sistemas e o uso offline. Diferente de uma versão online, os dados ficam no computador, tornando possível ajustar configurações conforme necessário."
   ]
  },
  {
   "cell_type": "markdown",
   "metadata": {},
   "source": [
    "### Introdução ao LangFlow\n",
    "\n",
    "O **LangFlow** é uma interface visual que permite criar, testar e exportar fluxos baseados no LangChain, sem necessidade de programar. Ele é ideal para prototipagem rápida e experimentação com modelos de IA.\n",
    "\n",
    "- Objetivo: `Criar fluxos de IA com interface visual`\n",
    "\n",
    "- Código Necessário? `Não (interface drag-and-drop)`\n",
    "\n",
    "- Uso Principal: `Prototipagem visual de aplicações de IA`\n",
    "\n",
    "- Exporta Código? `Sim, gera código Python baseado no fluxo`\n",
    "\n",
    "- Execução: `Local e nuvem`\n"
   ]
  },
  {
   "cell_type": "markdown",
   "metadata": {},
   "source": [
    "### 3. Configuração do Ambiente\n",
    "- 3.1 Requisitos\n",
    "   - Linguagem de Programação: Python 3.10 a 3.12\n",
    "   - uv, pip ou pipx instalado `(A documentação oficial recomenda uv)`\n",
    "   - Ambiente virtual recomendado (opcional, porém recomendado para evitar conflitos)\n",
    "\n",
    "Para mais informações sobre outras formas de instalação que não estão contidas neste manual, visite:\n",
    " - [Install Langflow](https://docs.langflow.org/get-started-installation)"
   ]
  },
  {
   "cell_type": "markdown",
   "metadata": {},
   "source": [
    "- 3.2 Instalação UV\n",
    "\n",
    "Caso não tenha o uv instalado use o `curl` para baixa-lo e executá-lo com sh como segue abaixo. Caso deseje realizar a instalação por outro meio, acesse o link **Instalação uv** no tópico Fontes e Recursos deste documento. "
   ]
  },
  {
   "cell_type": "code",
   "execution_count": null,
   "metadata": {
    "vscode": {
     "languageId": "powershell"
    }
   },
   "outputs": [],
   "source": [
    "curl -LsSf https://astral.sh/uv/install.sh | sh   # Linux/macOS"
   ]
  },
  {
   "cell_type": "markdown",
   "metadata": {},
   "source": [
    "- 3.3 Ambiente virtual\n",
    "\n",
    "Recomenda-se a criação de um ambiente virtual para evitar conflitos, este pode ser o da sua preferência uv, venv ou conda. Neste manual foi utilizado o venv como segue:"
   ]
  },
  {
   "cell_type": "code",
   "execution_count": null,
   "metadata": {
    "vscode": {
     "languageId": "powershell"
    }
   },
   "outputs": [],
   "source": [
    "python -m venv new-langflow-env\n",
    "source new-langflow-env/bin/activate  # Linux/macOS"
   ]
  },
  {
   "cell_type": "markdown",
   "metadata": {},
   "source": [
    "- 3.4 Instalar o LangFlow\n",
    "\n",
    "No terminal use o comando a seguir se você seguiu os passos anteriores."
   ]
  },
  {
   "cell_type": "code",
   "execution_count": null,
   "metadata": {
    "vscode": {
     "languageId": "powershell"
    }
   },
   "outputs": [],
   "source": [
    "uv pip install langflow"
   ]
  },
  {
   "cell_type": "markdown",
   "metadata": {},
   "source": [
    "- 3.5 Executar o LangFlow:\n",
    "\n",
    "No terminal, digite:"
   ]
  },
  {
   "cell_type": "code",
   "execution_count": null,
   "metadata": {
    "vscode": {
     "languageId": "powershell"
    }
   },
   "outputs": [],
   "source": [
    "uv run langflow run"
   ]
  },
  {
   "cell_type": "markdown",
   "metadata": {},
   "source": [
    "Uma mensagem de boas vindas aparecerá na tela juntamente com um endereço da web para ser acessado no navegador como mostra a imagem abaixo."
   ]
  },
  {
   "cell_type": "markdown",
   "metadata": {},
   "source": [
    "![Captura de Tela](imagens/Captura_de_tela_2.png)"
   ]
  },
  {
   "cell_type": "markdown",
   "metadata": {},
   "source": [
    "Copie o endereço e o acesse por um navegador web. Aparecerá uma tela como mostra a imagem a seguir."
   ]
  },
  {
   "cell_type": "markdown",
   "metadata": {},
   "source": [
    "![Captura de Tela](imagens/Captura_de_tela_3.png)"
   ]
  },
  {
   "cell_type": "markdown",
   "metadata": {},
   "source": [
    "### 4. Construindo um aplicativo de chatbot\n",
    "\n",
    "- Clique em new flow\n",
    "\n",
    "- Clique em Basic Prompting\n",
    "      - Vai aparecer um modelo semipronto como mostra a figura a seguir, mas para fins de aprendizagem delete todos os itens da tela, bastando clicar sobre eles com o botão esquerdo do mouse e clicando em `Delete` em seguida."
   ]
  },
  {
   "cell_type": "markdown",
   "metadata": {},
   "source": [
    "![Captura de Tela](imagens/Captura_de_tela_4.png)"
   ]
  },
  {
   "cell_type": "markdown",
   "metadata": {},
   "source": [
    "Deixando a tela limpa, como mostra a próxima imagem. \n",
    "\n",
    "![Captura de Tela](imagens/Captura_de_tela_5.png)"
   ]
  },
  {
   "cell_type": "markdown",
   "metadata": {},
   "source": [
    "- Para criar o fluxo de prompt básico, siga estes passos:\n",
    "\n",
    "       - Clique em Inputs, selecione o componente Chat Input e arraste-o para a tela. O componente Chat Input aceita entrada do usuário no chat.\n",
    "\n",
    "       - Clique em Prompts, selecione o componente Prompt e arraste-o para a tela. O componente Prompt combina a entrada do usuário com um prompt definido pelo usuário.\n",
    "\n",
    "       - Clique em Outputs, selecione o componente Chat Output e arraste-o para a tela. O componente Chat Output imprime a saída do fluxo no chat.\n",
    "\n",
    "       - Clique em Models, selecione o componente OpenAI e arraste-o para a tela. O componente do modelo OpenAI envia a entrada do usuário e o prompt para a API OpenAI e recebe uma resposta.\n",
    "\n",
    "\n",
    "A sua tela deve estar similar a esta: \n"
   ]
  },
  {
   "cell_type": "markdown",
   "metadata": {},
   "source": [
    "![Captura de Tela](imagens/Captura_de_tela_6.png)"
   ]
  },
  {
   "cell_type": "markdown",
   "metadata": {},
   "source": [
    "Para que os componentes interajam, é necessário conectá-los. Os dados fluem da entrada para a saída por meio desses conectores. Cada componente recebe informações pelo lado esquerdo e as envia pelo lado direito. Ao passar o mouse sobre as portas de conexão, é possível visualizar os tipos de dados suportados.\n",
    "\n",
    "- Para conectar o componente de `Chat Input` ao componente do modelo OpenAI, clique e arraste uma linha da porta de `Message` azul para a porta de `Input` do componente do modelo OpenAI.\n",
    "\n",
    "- Para conectar o componente `Prompt` ao componente do modelo OpenAI, clique e arraste uma linha da porta azul `Prompt Message` para a porta `System Message` do componente do modelo OpenAI.\n",
    "\n",
    "- Para conectar o componente do modelo OpenAI ao `Chat Output`, clique e arraste uma linha da porta de Text azul para a porta de `Text` do componente `Chat Output.`\n",
    "\n",
    "O fluxo de prompt básico finalizado deve ficar assim:"
   ]
  },
  {
   "cell_type": "markdown",
   "metadata": {},
   "source": [
    "![Captura de Tela](imagens/Captura_de_tela_7.png)"
   ]
  },
  {
   "cell_type": "markdown",
   "metadata": {},
   "source": [
    "### 4. Execução\n",
    "\n",
    "Adicione sua chave de API OpenAI ao componente correspondente e um prompt ao componente Prompt para instruir o modelo. A forma mais rápida de configurar isso é usando as Global Variables do Langflow. Para isso:\n",
    "\n",
    "- Clique no ícone de globo no campo da `OpenAI API Key` e selecione `Add New Variable.`\n",
    "\n",
    "      - Nomeie a variável em `Variable Name`, cole sua chave OpenAI em `Value` e, em `Apply To Fields` selecione OpenAI API Key.\n",
    "\n",
    "- Em seguida, clique em `Save Variable.`\n",
    "\n",
    "E assim a chave estará visível para ser selecionada com o nome que foi dado a ela, neste caso, `iartes`. Não esqueça de clicar sobre ela para selecioná-la."
   ]
  },
  {
   "cell_type": "markdown",
   "metadata": {},
   "source": [
    "![Captura de Tela](imagens/Captura_de_tela_8.png)"
   ]
  },
  {
   "cell_type": "markdown",
   "metadata": {},
   "source": [
    "- Para adicionar um prompt ao componente `Prompt`, clique no campo `Template` e insira o texto desejado. O prompt direciona as respostas do bot com base na entrada do usuário. Se precisar de um exemplo, use: \n",
    "\"Responda ao usuário como se você fosse um especialista em GenAI, entusiasmado em ajudá-lo a começar a construir algo novo.\"\n",
    "\n",
    "- Em seguida clique em `Check & Save`.\n",
    "\n",
    "- Clique em `Playground` na parte superior da tela para iniciar uma sessão de bate-papo. Uma tela aparecerá, como mostrado na imagem a seguir."
   ]
  },
  {
   "cell_type": "markdown",
   "metadata": {},
   "source": [
    "![Captura de Tela](imagens/Captura_de_tela_9.png)"
   ]
  },
  {
   "cell_type": "markdown",
   "metadata": {},
   "source": [
    "Agora basta inserir uma consulta e certificar-se de que o bot responda de acordo com o prompt definido no componente Prompt.\n",
    "\n",
    "Dessa forma o aplicativo de chatbot usando o OpenAI no Langflow Workspace estará pronto."
   ]
  },
  {
   "cell_type": "markdown",
   "metadata": {},
   "source": [
    "### Resultado da Execução\n",
    "\n",
    "![Captura de Tela](imagens/Captura_de_tela_10.png)"
   ]
  },
  {
   "cell_type": "markdown",
   "metadata": {},
   "source": [
    "### Fontes e Recursos\n",
    "\n",
    "- **Instalação Langflow:** [Install Langflow](https://docs.langflow.org/get-started-installation)\n",
    "\n",
    "- **Instalação uv:** [Installing uv](https://docs.astral.sh/uv/getting-started/installation/)\n",
    "\n",
    "- **Documentação Langflow:** [Welcome to Langflow](https://docs.astral.sh/uv/getting-started/installation/)\n",
    "\n",
    "- **Repositório oficial do LangFlow:** [Repositório oficial do LangFlow](https://github.com/logspace-ai/langflow)\n",
    "\n",
    "- **Contribua para o Langflow:** [Contribute to Langflow](https://docs.langflow.org/contributing-how-to-contribute)\n",
    "\n",
    "- **Servidor Discord Langflow:** [Servidor Discord Langflow](https://discord.com/invite/EqksyE2EX9)\n",
    "\n",
    "- **X:** [@langflow_ai ](@langflow_ai )\n",
    "\n",
    "\n",
    "\n",
    "Para saber mais sobre como adicionar RAG ao chatbot criado acesse: \n",
    "\n",
    "- **Add vector RAG to your application:** [Quickstart](https://docs.langflow.org/get-started-quickstart )\n"
   ]
  }
 ],
 "metadata": {
  "kernelspec": {
   "display_name": "Python 3",
   "language": "python",
   "name": "python3"
  },
  "language_info": {
   "name": "python",
   "version": "3.12.2"
  }
 },
 "nbformat": 4,
 "nbformat_minor": 2
}
